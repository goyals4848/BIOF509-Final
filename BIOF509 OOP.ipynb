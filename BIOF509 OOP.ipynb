{
 "cells": [
  {
   "cell_type": "markdown",
   "metadata": {},
   "source": [
    "# Investigating trends in COVID-19 survey responses based on patient status using SVM\n",
    "\n",
    "BIOF 509 Final Project"
   ]
  },
  {
   "cell_type": "code",
   "execution_count": 7,
   "metadata": {},
   "outputs": [],
   "source": [
    "# import all required packages\n",
    "import numpy as np\n",
    "import pandas as pd\n",
    "from sklearn.preprocessing import MinMaxScaler\n",
    "from sklearn.decomposition import PCA\n",
    "import seaborn as sns\n",
    "from sklearn.svm import SVC\n",
    "from sklearn.model_selection import train_test_split\n",
    "from sklearn.metrics import accuracy_score,confusion_matrix\n",
    "\n",
    "\n",
    "# we will define a class SVM which will preprocess the data, scale data, reduce dimensions, \n",
    "#run SVM using a specified kernel, and return the accuracy of the model, along with a confusion matrix\n",
    "#and indication of which features were most important for each prinicipal component\n",
    "\n",
    "class SVM:\n",
    "    def __init__(self, excel): #excel is a variable representing your path to your datafile. Specify which kernel you want to use for SVM\n",
    "        self.data = pd.read_excel(excel)\n",
    "        self.data = self.data.dropna() #drop any empty cells\n",
    "        #make sure your labels are in the first column of your dataset, and the data are in the following columns\n",
    "        self.target = self.data.iloc[:, 0] #data from the first column saved as target\n",
    "        self.data = self.data.iloc[:, 1:] #data from second column onwards saved as data\n",
    "        self.df_list = list(self.data.columns) # create a list of your feature names for later\n",
    "        self.data = self.data.values #convert to array for computations\n",
    "    \n",
    "    #scale the data using normalization because we do not have a Gaussian distribution\n",
    "    def scale(self):\n",
    "        self.scaler = MinMaxScaler()\n",
    "        self.data = self.scaler.fit_transform(self.data)\n",
    "        return self.data\n",
    "    \n",
    "    #use PCA for dimensionality reduction with 4 components\n",
    "    def pca(self,n_components):\n",
    "            self.data_reducer = PCA(n_components= n_components)\n",
    "            self.data= self.data_reducer.fit_transform(self.data)\n",
    "            return self.data\n",
    "# SVM\n",
    "    def svm(self, kernel):\n",
    "    #training dataset\n",
    "        self.X_train, self.X_test, self.y_train, self.y_test = train_test_split(self.data, self.target, test_size=0.3,random_state=509) \n",
    "        self.svm_model = SVC(kernel=kernel)  \n",
    "    #fit the model with the training dataset\n",
    "        self.svm_model.fit(self.X_train, self.y_train)\n",
    "    #test model\n",
    "        self.y_pred = self.svm_model.predict(self.X_test)\n",
    "        \n",
    "    #return SVM accuracy\n",
    "    def accuracy(self):\n",
    "        self.accuracy = accuracy_score(self.y_pred,self.y_test)\n",
    "        return self.accuracy\n",
    "        \n",
    "    #generate and return a confusion matrix\n",
    "    def confusion_matrix(self):\n",
    "        self.cm = confusion_matrix(self.y_test, self.y_pred, normalize ='true')\n",
    "        self.cm = pd.DataFrame(self.cm, index=[0,1],columns=[0,1])\n",
    "        self.heatmap = sns.heatmap(self.cm, annot=True)\n",
    "        return self.heatmap\n",
    "    \n",
    "      #return the important features from PCA\n",
    "    def pca_features(self):\n",
    "        self.top_features = [np.abs(self.data_reducer.components_[i]).argmax() for i in range(self.data_reducer.components_.shape[0])]\n",
    "        self.top_feature_names = [self.df_list[self.top_features[i]] for i in range(self.data_reducer.components_.shape[0])]\n",
    "        for n,name in enumerate(self.top_feature_names):\n",
    "            print(\"#\" + str(n) + \": \" + str(name))\n",
    "    \n"
   ]
  },
  {
   "cell_type": "code",
   "execution_count": 9,
   "metadata": {},
   "outputs": [
    {
     "name": "stdout",
     "output_type": "stream",
     "text": [
      "#0: Sum of Conscientousness\n",
      "#1: ISOLATED\n",
      "#2: TREATMENT_MENTAL_HEALTH\n",
      "#3: WORRY_INFECTED\n"
     ]
    },
    {
     "data": {
      "text/plain": [
       "0.65"
      ]
     },
     "execution_count": 9,
     "metadata": {},
     "output_type": "execute_result"
    },
    {
     "data": {
      "image/png": "[encoded data removed]",
      "text/plain": [
       "<Figure size 432x288 with 2 Axes>"
      ]
     },
     "metadata": {
      "needs_background": "light"
     },
     "output_type": "display_data"
    }
   ],
   "source": [
    "data= '/Users/shivani/Desktop/Final Project/For Github/COVID19_Data.xlsx'\n",
    "demo = SVM(data)\n",
    "demo.svm(kernel=\"rbf\")\n",
    "demo.scale()\n",
    "demo.pca(4)\n",
    "demo.confusion_matrix()\n",
    "demo.pca_features()\n",
    "demo.accuracy()"
   ]
  },
  {
   "cell_type": "code",
   "execution_count": null,
   "metadata": {},
   "outputs": [],
   "source": []
  }
 ],
 "metadata": {
  "kernelspec": {
   "display_name": "Python 3",
   "language": "python",
   "name": "python3"
  },
  "language_info": {
   "codemirror_mode": {
    "name": "ipython",
    "version": 3
   },
   "file_extension": ".py",
   "mimetype": "text/x-python",
   "name": "python",
   "nbconvert_exporter": "python",
   "pygments_lexer": "ipython3",
   "version": "3.7.6"
  }
 },
 "nbformat": 4,
 "nbformat_minor": 4
}
